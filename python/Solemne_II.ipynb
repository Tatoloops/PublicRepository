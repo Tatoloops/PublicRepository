{
  "nbformat": 4,
  "nbformat_minor": 0,
  "metadata": {
    "colab": {
      "provenance": [],
      "authorship_tag": "ABX9TyP9y4ycbgziDf8z1ALBUNtM",
      "include_colab_link": true
    },
    "kernelspec": {
      "name": "python3",
      "display_name": "Python 3"
    },
    "language_info": {
      "name": "python"
    }
  },
  "cells": [
    {
      "cell_type": "markdown",
      "metadata": {
        "id": "view-in-github",
        "colab_type": "text"
      },
      "source": [
        "<a href=\"https://colab.research.google.com/github/Tatoloops/PublicRepository/blob/PyNotebook/python/Solemne_II.ipynb\" target=\"_parent\"><img src=\"https://colab.research.google.com/assets/colab-badge.svg\" alt=\"Open In Colab\"/></a>"
      ]
    },
    {
      "cell_type": "markdown",
      "source": [
        "  ## Leer el archivo CSV o Excel usando Pandas y mostrar las primeras 5 filas para entender la estructura del conjunto de datos."
      ],
      "metadata": {
        "id": "tEzy_MazTDXY"
      }
    },
    {
      "cell_type": "code",
      "execution_count": null,
      "metadata": {
        "id": "yNCp4jC6NWsz"
      },
      "outputs": [],
      "source": [
        "import pandas as pd\n",
        "\n",
        "# Paso 1: Solicitar al usuario el nombre del archivo CSV o Excel\n",
        "archivo = input(\"Ingrese el nombre del archivo CSV o Excel (incluya la extensión): \")\n",
        "\n",
        "# Paso 2: Leer el archivo CSV o Excel en un DataFrame\n",
        "try:\n",
        "    if archivo.endswith('.csv'):\n",
        "        data = pd.read_csv(archivo)\n",
        "    elif archivo.endswith('.xlsx'):\n",
        "        data = pd.read_excel(archivo)\n",
        "    else:\n",
        "        raise ValueError(\"Formato de archivo no compatible. Use un archivo CSV o Excel.\")\n",
        "except FileNotFoundError:\n",
        "    print(f\"El archivo '{archivo}' no se encontró. Asegúrese de proporcionar la ruta correcta.\")\n",
        "    exit()\n",
        "except pd.errors.EmptyDataError:\n",
        "    print(f\"El archivo '{archivo}' está vacío.\")\n",
        "    exit()\n",
        "except pd.errors.ParserError:\n",
        "    print(f\"No se pudo leer el archivo '{archivo}'. Asegúrese de que el formato sea correcto.\")\n",
        "    exit()\n",
        "\n",
        "# Paso 3: Mostrar las primeras 5 filas del DataFrame\n",
        "print(\"\\nLas primeras 5 filas del conjunto de datos son:\\n\")\n",
        "print(data.head())\n"
      ]
    },
    {
      "cell_type": "markdown",
      "source": [
        "## Realizar un análisis descriptivo básico (media, mediana, desviación estándar, etc.) para cada columna numérica."
      ],
      "metadata": {
        "id": "dytrNHc4TKSz"
      }
    },
    {
      "cell_type": "code",
      "source": [
        "# Paso 4: Realizar un análisis descriptivo básico para columnas numéricas\n",
        "analisis_descriptivo = data.describe()\n",
        "\n",
        "# Paso 5: Mostrar el análisis descriptivo\n",
        "print(\"\\nAnálisis descriptivo básico para columnas numéricas:\\n\")\n",
        "print(analisis_descriptivo)\n"
      ],
      "metadata": {
        "id": "bfhW6N96T8oI"
      },
      "execution_count": null,
      "outputs": []
    },
    {
      "cell_type": "markdown",
      "source": [
        "## Identificar los top 5 superiores y los top 5 inferiores de alguna de las categorías identificadas."
      ],
      "metadata": {
        "id": "hvZYslN1TNI6"
      }
    },
    {
      "cell_type": "code",
      "source": [
        "# Paso 6: Identificar los top 5 superiores e inferiores de una columna\n",
        "columna_a_analizar = 'columna_a_analizar'\n",
        "\n",
        "# Top 5 superiores\n",
        "top5_superiores = data.nlargest(5, columna_a_analizar)\n",
        "\n",
        "# Top 5 inferiores\n",
        "top5_inferiores = data.nsmallest(5, columna_a_analizar)\n",
        "\n",
        "# Mostrar los resultados\n",
        "print(\"\\nTop 5 superiores de\", columna_a_analizar, \":\\n\")\n",
        "print(top5_superiores)\n",
        "\n",
        "print(\"\\nTop 5 inferiores de\", columna_a_analizar, \":\\n\")\n",
        "print(top5_inferiores)"
      ],
      "metadata": {
        "id": "SxoMpfShUGGR"
      },
      "execution_count": null,
      "outputs": []
    },
    {
      "cell_type": "markdown",
      "source": [
        "## Calcular los totales acumulados para todas las categorías numéricas agrupados por el Item Clave (Excepto Cod. Asig) y ordenados de mayor a menor."
      ],
      "metadata": {
        "id": "8UorbRNaTOrw"
      }
    },
    {
      "cell_type": "code",
      "source": [
        "# Paso 7: Calcular los totales acumulados para todas las categorías numéricas\n",
        "#         agrupados por \"Item Clave\" (excepto \"Cod. Asig\") y ordenados de mayor a menor\n",
        "columnas_numericas = data.select_dtypes(include='number').columns\n",
        "columnas_agrupar = ['Item Clave']\n",
        "\n",
        "# Filtrar las columnas numéricas y de agrupación\n",
        "data_numericas = data[columnas_agrupar + list(columnas_numericas.difference(['Cod. Asig']))]\n",
        "\n",
        "# Agrupar por \"Item Clave\" y calcular los totales acumulados\n",
        "totales_acumulados = data_numericas.groupby('Item Clave').cumsum()\n",
        "\n",
        "# Ordenar por el total acumulado más alto\n",
        "totales_acumulados = totales_acumulados.sum(axis=1).sort_values(ascending=False)\n",
        "\n",
        "# Mostrar los resultados\n",
        "print(\"\\nTotales acumulados para todas las categorías numéricas agrupados por 'Item Clave' (excepto 'Cod. Asig') y ordenados de mayor a menor:\\n\")\n",
        "print(totales_acumulados)\n"
      ],
      "metadata": {
        "id": "hx-lh1iZUTOj"
      },
      "execution_count": null,
      "outputs": []
    },
    {
      "cell_type": "markdown",
      "source": [
        "## Visualizar los datos utilizando Matplotlib:"
      ],
      "metadata": {
        "id": "tXNsarQmTQP1"
      }
    },
    {
      "cell_type": "markdown",
      "source": [
        "• Crear un gráfico de barras para mostrar los top 5 Superiores y otro para los top 5 inferiores de las categorías disponibles según el set de datos (máximo 6 gráficos)."
      ],
      "metadata": {
        "id": "ToOdlwvUTRlp"
      }
    },
    {
      "cell_type": "code",
      "source": [
        "import matplotlib.pyplot as plt\n",
        "\n",
        "# Leer el archivo CSV o Excel en un DataFrame (asegúrate de ajustar el nombre del archivo)\n",
        "data = pd.read_csv('tuarchivo.csv')\n",
        "\n",
        "# Identificar la columna sobre la cual realizar la clasificación (reemplaza con tu columna específica)\n",
        "columna_a_analizar = 'columna_a_analizar'\n",
        "\n",
        "# Top 5 superiores\n",
        "top5_superiores = data.nlargest(5, columna_a_analizar)\n",
        "\n",
        "# Top 5 inferiores\n",
        "top5_inferiores = data.nsmallest(5, columna_a_analizar)\n",
        "\n",
        "# Crear gráficos de barras\n",
        "fig, axs = plt.subplots(2, 1, figsize=(8, 10))\n",
        "\n",
        "# Gráfico para los top 5 superiores\n",
        "axs[0].bar(top5_superiores['Item Clave'], top5_superiores[columna_a_analizar], color='green')\n",
        "axs[0].set_title('Top 5 Superiores')\n",
        "axs[0].set_xlabel('Item Clave')\n",
        "axs[0].set_ylabel(columna_a_analizar)\n",
        "axs[0].grid(axis='y', linestyle='--', alpha=0.7)\n",
        "\n",
        "# Gráfico para los top 5 inferiores\n",
        "axs[1].bar(top5_inferiores['Item Clave'], top5_inferiores[columna_a_analizar], color='red')\n",
        "axs[1].set_title('Top 5 Inferiores')\n",
        "axs[1].set_xlabel('Item Clave')\n",
        "axs[1].set_ylabel(columna_a_analizar)\n",
        "axs[1].grid(axis='y', linestyle='--', alpha=0.7)\n",
        "\n",
        "# Ajustar el espacio entre los gráficos\n",
        "plt.tight_layout()\n",
        "\n",
        "# Mostrar los gráficos\n",
        "plt.show()"
      ],
      "metadata": {
        "id": "5mGG2OEsUm9i"
      },
      "execution_count": null,
      "outputs": []
    },
    {
      "cell_type": "markdown",
      "source": [
        "• Crear un gráfico de torta para mostrar alguna distribución de Items según categoría."
      ],
      "metadata": {
        "id": "gZ2N1qctTTPg"
      }
    },
    {
      "cell_type": "code",
      "source": [
        "# Leer el archivo CSV o Excel en un DataFrame (asegúrate de ajustar el nombre del archivo)\n",
        "data = pd.read_csv('tuarchivo.csv')\n",
        "\n",
        "# Identificar la columna para la distribución de Items (reemplaza con tu columna específica)\n",
        "columna_distribucion = 'Categoría'\n",
        "\n",
        "# Calcular la distribución de Items\n",
        "distribucion_items = data[columna_distribucion].value_counts()\n",
        "\n",
        "# Crear un gráfico de torta\n",
        "plt.figure(figsize=(8, 8))\n",
        "plt.pie(distribucion_items, labels=distribucion_items.index, autopct='%1.1f%%', startangle=90, colors=['skyblue', 'lightgreen', 'lightcoral', 'gold'])\n",
        "plt.title('Distribución de Items por Categoría')\n",
        "plt.axis('equal')  # Equal aspect ratio ensures that pie is drawn as a circle.\n",
        "plt.legend()\n",
        "\n",
        "# Mostrar el gráfico\n",
        "plt.show()\n"
      ],
      "metadata": {
        "id": "omZgx68XU9-w"
      },
      "execution_count": null,
      "outputs": []
    },
    {
      "cell_type": "markdown",
      "source": [
        "• Crea un gráfico de líneas comparativo que permita visualizar la evolución de alguna categoría numérica para al menos tres ítems distintos."
      ],
      "metadata": {
        "id": "mNcpVvQYTVGb"
      }
    },
    {
      "cell_type": "code",
      "source": [
        "import pandas as pd\n",
        "import matplotlib.pyplot as plt\n",
        "\n",
        "# Leer el archivo CSV o Excel en un DataFrame (ajusta el nombre del archivo según tu caso)\n",
        "data = pd.read_csv('tuarchivo.csv')\n",
        "\n",
        "# Identificar la columna para la evolución (reemplaza con tu columna específica)\n",
        "columna_evolucion = 'Evolución'\n",
        "\n",
        "# Identificar las columnas de ítems distintos (reemplaza con tus ítems específicos)\n",
        "item1 = 'Item1'\n",
        "item2 = 'Item2'\n",
        "item3 = 'Item3'\n",
        "\n",
        "# Filtrar el DataFrame para los tres ítems\n",
        "data_items = data[data['Item Clave'].isin([item1, item2, item3])]\n",
        "\n",
        "# Crear un gráfico de líneas comparativo\n",
        "plt.figure(figsize=(10, 6))\n",
        "\n",
        "# Línea para Item1\n",
        "plt.plot(data_items[data_items['Item Clave'] == item1]['Fecha'], data_items[data_items['Item Clave'] == item1][columna_evolucion], label=item1)\n",
        "\n",
        "# Línea para Item2\n",
        "plt.plot(data_items[data_items['Item Clave'] == item2]['Fecha'], data_items[data_items['Item Clave'] == item2][columna_evolucion], label=item2)\n",
        "\n",
        "# Línea para Item3\n",
        "plt.plot(data_items[data_items['Item Clave'] == item3]['Fecha'], data_items[data_items['Item Clave'] == item3][columna_evolucion], label=item3)\n",
        "\n",
        "# Configurar el gráfico\n",
        "plt.title(f'Evolución de {columna_evolucion} para tres ítems distintos')\n",
        "plt.xlabel('Fecha')\n",
        "plt.ylabel(columna_evolucion)\n",
        "plt.legend()\n",
        "plt.grid(True)\n",
        "\n",
        "# Mostrar el gráfico\n",
        "plt.show()"
      ],
      "metadata": {
        "id": "gZW93n09VOVf"
      },
      "execution_count": null,
      "outputs": []
    }
  ]
}