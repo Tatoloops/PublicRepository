{
  "nbformat": 4,
  "nbformat_minor": 0,
  "metadata": {
    "colab": {
      "provenance": [],
      "authorship_tag": "ABX9TyOMXr22hmS/+wJtN8reYZJX",
      "include_colab_link": true
    },
    "kernelspec": {
      "name": "python3",
      "display_name": "Python 3"
    },
    "language_info": {
      "name": "python"
    }
  },
  "cells": [
    {
      "cell_type": "markdown",
      "metadata": {
        "id": "view-in-github",
        "colab_type": "text"
      },
      "source": [
        "<a href=\"https://colab.research.google.com/github/Tatoloops/PublicRepository/blob/PyNotebook/Python/Notebooks/Solemne_III.ipynb\" target=\"_parent\"><img src=\"https://colab.research.google.com/assets/colab-badge.svg\" alt=\"Open In Colab\"/></a>"
      ]
    },
    {
      "cell_type": "markdown",
      "source": [
        "# Solemne III"
      ],
      "metadata": {
        "id": "FOPR0yuDHPVF"
      }
    },
    {
      "cell_type": "markdown",
      "source": [
        "* Integrantes:  \n",
        "> Tomás Castillo Á  \n",
        "> Carlos Campos  \n",
        "> Sebastián Gonzáles"
      ],
      "metadata": {
        "id": "OqOInImOHTnd"
      }
    },
    {
      "cell_type": "markdown",
      "source": [
        "##Procesamiento de Datos:"
      ],
      "metadata": {
        "id": "KVQqNbiIHg5-"
      }
    },
    {
      "cell_type": "markdown",
      "source": [
        "## Reducción de Dimensiones y Modelado:"
      ],
      "metadata": {
        "id": "rogPr0ymHjeq"
      }
    },
    {
      "cell_type": "markdown",
      "source": [
        "## Interpretación de Clústeres:"
      ],
      "metadata": {
        "id": "XmoV_7llHnG1"
      }
    },
    {
      "cell_type": "markdown",
      "source": [
        "## Visualización:"
      ],
      "metadata": {
        "id": "gxmrFyqbHrEV"
      }
    }
  ]
}