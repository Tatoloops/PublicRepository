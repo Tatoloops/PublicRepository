{
  "nbformat": 4,
  "nbformat_minor": 0,
  "metadata": {
    "colab": {
      "provenance": [],
      "authorship_tag": "ABX9TyPYC2tdVoFRU6XO5/cgwNGI",
      "include_colab_link": true
    },
    "kernelspec": {
      "name": "python3",
      "display_name": "Python 3"
    },
    "language_info": {
      "name": "python"
    }
  },
  "cells": [
    {
      "cell_type": "markdown",
      "metadata": {
        "id": "view-in-github",
        "colab_type": "text"
      },
      "source": [
        "<a href=\"https://colab.research.google.com/github/Tatoloops/PublicRepository/blob/PyNotebook/Python/Notebooks/Solemne_III.ipynb\" target=\"_parent\"><img src=\"https://colab.research.google.com/assets/colab-badge.svg\" alt=\"Open In Colab\"/></a>"
      ]
    },
    {
      "cell_type": "markdown",
      "source": [
        "# Solemne III"
      ],
      "metadata": {
        "id": "FOPR0yuDHPVF"
      }
    },
    {
      "cell_type": "markdown",
      "source": [
        "* Integrantes:  \n",
        "> Tomás Castillo Á  \n",
        "> Carlos Campos  \n",
        "> Sebastián Gonzáles"
      ],
      "metadata": {
        "id": "OqOInImOHTnd"
      }
    },
    {
      "cell_type": "markdown",
      "source": [
        "##Procesamiento de Datos:"
      ],
      "metadata": {
        "id": "KVQqNbiIHg5-"
      }
    },
    {
      "cell_type": "markdown",
      "source": [
        "el conjunto de datos seleccionado está relacionado con el gasto anual de clientes en diferentes categorías de productos."
      ],
      "metadata": {
        "id": "oAEihnypNZdd"
      }
    },
    {
      "cell_type": "code",
      "source": [
        "from google.colab import files\n",
        "\n",
        "dataUpload = files.upload()\n",
        "\n",
        "for fn in dataUpload.keys():\n",
        "  print('User uploaded file \"{name}\" with length {length} bytes'.format(\n",
        "      name=fn, length=len(dataUpload[fn])))"
      ],
      "metadata": {
        "id": "qJ3BNQgeKaCd"
      },
      "execution_count": null,
      "outputs": []
    },
    {
      "cell_type": "code",
      "source": [
        "import pandas as pd\n",
        "\n",
        "dataFrame = pd.read_excel(next(iter(dataUpload.keys())))"
      ],
      "metadata": {
        "id": "vRX7QGRsKcjr"
      },
      "execution_count": null,
      "outputs": []
    },
    {
      "cell_type": "markdown",
      "source": [
        "Dentro del Dataframe hay información correspondiente a 3 regiones y 2 canales, se procederá a:\n",
        "* Eliminar toda la información del canal 2.\n",
        "* Eliminar toda la información de la región 3.\n",
        "* Eliminar la columna \"Channel\" correspondiente a los canales (ya que toda la información restante pertenecerá al canal 1)  \n",
        "\n",
        "Con esto sólo existirán los gastos anuales correspondientes a las categorías de productos para las regiones 1 y 2 sobre el mismo canal."
      ],
      "metadata": {
        "id": "oGav4AinPt7g"
      }
    },
    {
      "cell_type": "code",
      "source": [
        "def delete_column(dataframe, column_name):\n",
        "    if column_name in dataframe.columns:\n",
        "        dataframe = dataframe.drop(column_name, axis=1)\n",
        "        print(f\"Column '{column_name}' deleted successfully.\")\n",
        "    else:\n",
        "        print(f\"Column '{column_name}' not found in the DataFrame.\")\n",
        "\n",
        "    return dataframe\n",
        "\n",
        "def delete_rows(dataframe,name,value):\n",
        "    name = \"Channel\"\n",
        "    if name in dataframe.columns:\n",
        "        rows_to_delete = dataframe[dataframe[name] == value].index\n",
        "        dataframe = dataframe.drop(index=rows_to_delete)\n",
        "        print(f\"Rows with '{name}' value equal to {value} deleted successfully.\")\n",
        "    else:\n",
        "        print(f\"Column '{name}' not found in the DataFrame.\")\n",
        "\n",
        "    return dataframe\n",
        "\n",
        "delete_rows(dataFrame,\"Channel\",1)\n",
        "delete_rows(dataFrame,\"Region\",3)\n",
        "delete_column(dataFrame,\"Channel\")"
      ],
      "metadata": {
        "id": "Mu9ifdo4KhMU"
      },
      "execution_count": null,
      "outputs": []
    },
    {
      "cell_type": "markdown",
      "source": [
        "## Reducción de Dimensiones y Modelado:"
      ],
      "metadata": {
        "id": "rogPr0ymHjeq"
      }
    },
    {
      "cell_type": "markdown",
      "source": [
        "## Interpretación de Clústeres:"
      ],
      "metadata": {
        "id": "XmoV_7llHnG1"
      }
    },
    {
      "cell_type": "markdown",
      "source": [
        "## Visualización:"
      ],
      "metadata": {
        "id": "gxmrFyqbHrEV"
      }
    },
    {
      "cell_type": "code",
      "source": [
        "import matplotlib.pyplot as plt\n",
        "import matplotlib.ticker as ticker\n",
        "import numpy as np\n",
        "import seaborn as sns"
      ],
      "metadata": {
        "id": "5KM2pWiQNkSp"
      },
      "execution_count": null,
      "outputs": []
    },
    {
      "cell_type": "code",
      "source": [
        "def data_comparison(data, year_start, year_end, country_list, column_to_compare):\n",
        "    # Filtrar el DataFrame según el rango de años y la lista de países\n",
        "    filtered_data = data[(data['year'] >= year_start) & (data['year'] <= year_end) & (data['country'].isin(country_list))]\n",
        "\n",
        "    # Colores personalizados para cada país\n",
        "    country_colors = {'Peru': 'green', 'Argentina': 'blue', 'Chile': 'red'}\n",
        "\n",
        "    # Crear el gráfico de barras\n",
        "    fig, ax = plt.subplots(figsize=(16, 6))\n",
        "\n",
        "    # Barra para cada país en cada año\n",
        "    for i, country in enumerate(country_list):\n",
        "        subset_data = filtered_data[filtered_data['country'] == country]\n",
        "        ax.bar(subset_data['year'] + 0.2 * i, subset_data[column_to_compare], width=0.2, label=country, color=country_colors[country], alpha=0.7)\n",
        "\n",
        "    # Configurar etiquetas en el eje X\n",
        "    ax.set_xticks(np.arange(year_start, year_end + 1))\n",
        "    ax.set_xticklabels(np.arange(year_start, year_end + 1))\n",
        "\n",
        "    # Configurar etiquetas y formatear tipo de valores sobre el eje Y\n",
        "    if column_to_compare == \"pop\":\n",
        "        columnName = \"población\"\n",
        "        ax.yaxis.set_major_formatter(ticker.FuncFormatter(lambda x, _: f'{int(x / 1e6):,}M'))\n",
        "    elif column_to_compare == \"gdp_c\":\n",
        "        columnName = \"GDP per capita\"\n",
        "        ax.yaxis.set_major_formatter(ticker.FuncFormatter(lambda x, _: f'{int(x / 1e6):,}M'))\n",
        "    elif column_to_compare == \"unemployment_r\":\n",
        "        columnName = \"porcentaje de desempleo\"\n",
        "        ax.yaxis.set_major_formatter(ticker.FuncFormatter(lambda x, _: f'{int(x):,}%'))\n",
        "\n",
        "    # Configurar etiquetas y leyenda\n",
        "    ax.set_xlabel('Año')\n",
        "    ax.set_ylabel(f'{columnName}')\n",
        "    ax.set_title(f'Comparación de {columnName} entre Países')\n",
        "    ax.legend(title='País')\n",
        "\n",
        "    # Mostrar el gráfico\n",
        "    plt.show()\n",
        "\n",
        "# Generando gráficos\n",
        "data_comparison(dataFrame, 2000, 2022, ['Peru', 'Argentina', 'Chile'], 'pop')\n",
        "data_comparison(dataFrame, 2000, 2022, ['Peru', 'Argentina', 'Chile'], 'gdp_c')\n",
        "\n",
        "data_comparison(dataFrame, year0, year1, ['Peru', 'Argentina', 'Chile'], 'unemployment_r')\n"
      ],
      "metadata": {
        "id": "9tVYj29CNnjp"
      },
      "execution_count": null,
      "outputs": []
    }
  ]
}