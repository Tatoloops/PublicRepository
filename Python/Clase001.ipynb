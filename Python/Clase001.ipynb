{
  "nbformat": 4,
  "nbformat_minor": 0,
  "metadata": {
    "colab": {
      "provenance": [],
      "authorship_tag": "ABX9TyM/BYdpepdgDu3P4CWHEAXO",
      "include_colab_link": true
    },
    "kernelspec": {
      "name": "python3",
      "display_name": "Python 3"
    },
    "language_info": {
      "name": "python"
    }
  },
  "cells": [
    {
      "cell_type": "markdown",
      "metadata": {
        "id": "view-in-github",
        "colab_type": "text"
      },
      "source": [
        "<a href=\"https://colab.research.google.com/github/Tatoloops/PublicRepository/blob/PyNotebook/Python/Clase001.ipynb\" target=\"_parent\"><img src=\"https://colab.research.google.com/assets/colab-badge.svg\" alt=\"Open In Colab\"/></a>"
      ]
    },
    {
      "cell_type": "code",
      "execution_count": 7,
      "metadata": {
        "colab": {
          "base_uri": "https://localhost:8080/"
        },
        "id": "r_D00A92vm4X",
        "outputId": "c25972ec-1346-45a1-9f7a-fddf4288a918"
      },
      "outputs": [
        {
          "output_type": "stream",
          "name": "stdout",
          "text": [
            "feo 1\n",
            "feo 2\n",
            "feo 3\n",
            "feo 4\n",
            "feo 5\n"
          ]
        }
      ],
      "source": [
        "# @title\n",
        "i=0;\n",
        "while i<5:\n",
        "  i+=1\n",
        "  print(\"feo \"+str(i));\n",
        "\n"
      ]
    }
  ]
}