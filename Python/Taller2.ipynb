{
  "nbformat": 4,
  "nbformat_minor": 0,
  "metadata": {
    "colab": {
      "provenance": [],
      "authorship_tag": "ABX9TyMVMjXKol8AGBqm5GQwSW44",
      "include_colab_link": true
    },
    "kernelspec": {
      "name": "python3",
      "display_name": "Python 3"
    },
    "language_info": {
      "name": "python"
    }
  },
  "cells": [
    {
      "cell_type": "markdown",
      "metadata": {
        "id": "view-in-github",
        "colab_type": "text"
      },
      "source": [
        "<a href=\"https://colab.research.google.com/github/Tatoloops/PublicRepository/blob/PyNotebook/Python/Taller2.ipynb\" target=\"_parent\"><img src=\"https://colab.research.google.com/assets/colab-badge.svg\" alt=\"Open In Colab\"/></a>"
      ]
    },
    {
      "cell_type": "markdown",
      "source": [
        "# Taller 2"
      ],
      "metadata": {
        "id": "LZgm4Qn1zCX9"
      }
    },
    {
      "cell_type": "markdown",
      "source": [
        "## Integrantes:\n",
        "> Tomás Castillo Á."
      ],
      "metadata": {
        "id": "zrQFEbF5zhQg"
      }
    },
    {
      "cell_type": "markdown",
      "source": [
        "## Enunciado del ejercicio"
      ],
      "metadata": {
        "id": "vUHMVZHczV7-"
      }
    },
    {
      "cell_type": "markdown",
      "source": [
        "### Ejercicio 1: Manejo de datos faltantes"
      ],
      "metadata": {
        "id": "oUUJ-rUkz-Qd"
      }
    },
    {
      "cell_type": "markdown",
      "source": [
        "> Descarga el conjunto de datos del Titanic desde el repositorio Kaggle.  \n",
        "> Este conjunto de datos tiene algunos valores faltantes.  \n",
        "> Su tarea consiste en:  \n",
        "* Leer los datos en un DataFrame de pandas.  \n",
        "* Identificar las columnas que contienen datos faltantes.  \n",
        "* Rellenar los datos faltantes en la columna con la mediana de las edades.  \n",
        "* Eliminar cualquier otra fila que tenga datos faltantes.  \n",
        "* Guardar el DataFrame limpio en un nuevo archivo CSV.  "
      ],
      "metadata": {
        "id": "R9ROgXSM1nn4"
      }
    },
    {
      "cell_type": "markdown",
      "source": [
        "### Ejercicio 2: Análisis de datos"
      ],
      "metadata": {
        "id": "tRCB-Od20cvI"
      }
    },
    {
      "cell_type": "markdown",
      "source": [
        "> Utilizando el mismo conjunto de datos del Titanic:  \n",
        "* Leer los datos en un DataFrame de pandas  \n",
        "* Calcular la proporción de pasajeros que sobrevivieron por género.  \n",
        "* Calcular la proporción de pasajeros que sobrevivieron por clase de pasajero.  \n",
        "* Crear una nueva columna. \"Hijo\", que sea True si el pasajero tiene menos de 18 años, y False de lo contrario.  \n",
        "* Calcular la proporción de pasajeros que sobrevivieron por \"Hijo\".  "
      ],
      "metadata": {
        "id": "sfv9tjJi2SFM"
      }
    },
    {
      "cell_type": "markdown",
      "source": [
        "## Código del ejercicio"
      ],
      "metadata": {
        "id": "XrgaA3iKzyQZ"
      }
    },
    {
      "cell_type": "markdown",
      "source": [
        "### Ejercicio 1: Manejo de datos faltantes"
      ],
      "metadata": {
        "id": "_WBNzojM0ki5"
      }
    },
    {
      "cell_type": "markdown",
      "source": [
        "### Ejercicio 2: Análisis de datos"
      ],
      "metadata": {
        "id": "40vecuA10uSE"
      }
    },
    {
      "cell_type": "markdown",
      "source": [
        "## Explicación del código"
      ],
      "metadata": {
        "id": "C0w3IBMU0-bA"
      }
    },
    {
      "cell_type": "markdown",
      "source": [
        "### Ejercicio 1: Manejo de datos faltantes"
      ],
      "metadata": {
        "id": "wjVbqT9d1EKx"
      }
    },
    {
      "cell_type": "markdown",
      "source": [
        "### Ejercicio 2: Análisis de datos"
      ],
      "metadata": {
        "id": "I5Y5hWXh1Kud"
      }
    }
  ]
}