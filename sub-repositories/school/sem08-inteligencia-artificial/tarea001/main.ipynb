{
 "cells": [
  {
   "cell_type": "markdown",
   "id": "efd607e0",
   "metadata": {},
   "source": [
    "# Tarea 1 Inteligencia Artificial"
   ]
  },
  {
   "cell_type": "markdown",
   "id": "12d989a4",
   "metadata": {},
   "source": [
    "## importar"
   ]
  },
  {
   "cell_type": "markdown",
   "id": "9522f04e",
   "metadata": {},
   "source": [
    "### Dependencias"
   ]
  },
  {
   "cell_type": "code",
   "execution_count": 2,
   "id": "1d916367",
   "metadata": {},
   "outputs": [],
   "source": [
    "import numpy as np\n",
    "import pandas as pd\n",
    "import matplotlib.pyplot as plt"
   ]
  },
  {
   "cell_type": "code",
   "execution_count": null,
   "id": "734fd3ca",
   "metadata": {},
   "outputs": [],
   "source": [
    "import sys\n",
    "print(sys.executable)\n"
   ]
  },
  {
   "cell_type": "markdown",
   "id": "b879297c",
   "metadata": {},
   "source": [
    "### Archivos csv"
   ]
  },
  {
   "cell_type": "code",
   "execution_count": 3,
   "id": "8bf3ca5b",
   "metadata": {},
   "outputs": [],
   "source": [
    "# importar csv\n",
    "myFile = pd.read_csv(\"local-data/dataset_rendimiento_estudiantil.csv\")\n",
    "\n"
   ]
  },
  {
   "cell_type": "code",
   "execution_count": 20,
   "id": "17472760",
   "metadata": {},
   "outputs": [
    {
     "data": {
      "text/html": [
       "<div>\n",
       "<style scoped>\n",
       "    .dataframe tbody tr th:only-of-type {\n",
       "        vertical-align: middle;\n",
       "    }\n",
       "\n",
       "    .dataframe tbody tr th {\n",
       "        vertical-align: top;\n",
       "    }\n",
       "\n",
       "    .dataframe thead th {\n",
       "        text-align: right;\n",
       "    }\n",
       "</style>\n",
       "<table border=\"1\" class=\"dataframe\">\n",
       "  <thead>\n",
       "    <tr style=\"text-align: right;\">\n",
       "      <th></th>\n",
       "      <th>Región</th>\n",
       "      <th>Comuna</th>\n",
       "      <th>Estudiantes</th>\n",
       "      <th>Mujeres</th>\n",
       "      <th>Hombres</th>\n",
       "      <th>Promedio PSU</th>\n",
       "      <th>Puntajes Nacionales</th>\n",
       "    </tr>\n",
       "  </thead>\n",
       "  <tbody>\n",
       "    <tr>\n",
       "      <th>0</th>\n",
       "      <td>Metropolitana</td>\n",
       "      <td>Santiago</td>\n",
       "      <td>5200</td>\n",
       "      <td>2800</td>\n",
       "      <td>2400</td>\n",
       "      <td>600</td>\n",
       "      <td>12</td>\n",
       "    </tr>\n",
       "    <tr>\n",
       "      <th>1</th>\n",
       "      <td>Valparaíso</td>\n",
       "      <td>Viña del Mar</td>\n",
       "      <td>3100</td>\n",
       "      <td>1700</td>\n",
       "      <td>1400</td>\n",
       "      <td>590</td>\n",
       "      <td>5</td>\n",
       "    </tr>\n",
       "    <tr>\n",
       "      <th>2</th>\n",
       "      <td>Biobío</td>\n",
       "      <td>Concepción</td>\n",
       "      <td>2800</td>\n",
       "      <td>1500</td>\n",
       "      <td>1300</td>\n",
       "      <td>580</td>\n",
       "      <td>3</td>\n",
       "    </tr>\n",
       "    <tr>\n",
       "      <th>3</th>\n",
       "      <td>Araucanía</td>\n",
       "      <td>Temuco</td>\n",
       "      <td>1500</td>\n",
       "      <td>800</td>\n",
       "      <td>700</td>\n",
       "      <td>570</td>\n",
       "      <td>1</td>\n",
       "    </tr>\n",
       "    <tr>\n",
       "      <th>4</th>\n",
       "      <td>Los Lagos</td>\n",
       "      <td>Puerto Montt</td>\n",
       "      <td>1300</td>\n",
       "      <td>700</td>\n",
       "      <td>600</td>\n",
       "      <td>560</td>\n",
       "      <td>1</td>\n",
       "    </tr>\n",
       "    <tr>\n",
       "      <th>5</th>\n",
       "      <td>Atacama</td>\n",
       "      <td>Copiapó</td>\n",
       "      <td>900</td>\n",
       "      <td>400</td>\n",
       "      <td>500</td>\n",
       "      <td>550</td>\n",
       "      <td>0</td>\n",
       "    </tr>\n",
       "  </tbody>\n",
       "</table>\n",
       "</div>"
      ],
      "text/plain": [
       "          Región        Comuna  Estudiantes  Mujeres  Hombres  Promedio PSU  \\\n",
       "0  Metropolitana      Santiago         5200     2800     2400           600   \n",
       "1     Valparaíso  Viña del Mar         3100     1700     1400           590   \n",
       "2         Biobío    Concepción         2800     1500     1300           580   \n",
       "3      Araucanía        Temuco         1500      800      700           570   \n",
       "4      Los Lagos  Puerto Montt         1300      700      600           560   \n",
       "5        Atacama       Copiapó          900      400      500           550   \n",
       "\n",
       "   Puntajes Nacionales  \n",
       "0                   12  \n",
       "1                    5  \n",
       "2                    3  \n",
       "3                    1  \n",
       "4                    1  \n",
       "5                    0  "
      ]
     },
     "execution_count": 20,
     "metadata": {},
     "output_type": "execute_result"
    }
   ],
   "source": [
    "#manipulando datos\n",
    "myFile.head(n=10)"
   ]
  },
  {
   "cell_type": "markdown",
   "id": "002f5f4c",
   "metadata": {},
   "source": [
    "## Ejercicios"
   ]
  },
  {
   "cell_type": "markdown",
   "id": "e6cbfe20",
   "metadata": {},
   "source": [
    "1. Mostrar el nombre de la comuna con mayor cantidad de estudiantes registrados. (10 puntos)\n"
   ]
  },
  {
   "cell_type": "code",
   "execution_count": null,
   "id": "ded6d9e8",
   "metadata": {},
   "outputs": [],
   "source": [
    "myFile.sort_values(by=\"Estudiantes\")\n",
    "myFile.loc[0,\"Comuna\"]"
   ]
  },
  {
   "cell_type": "markdown",
   "id": "bf199c89",
   "metadata": {},
   "source": [
    "2. Realizar un gráfico de barras que muestre la cantidad de hombres y mujeres por comuna. (15 puntos)\n"
   ]
  },
  {
   "cell_type": "code",
   "execution_count": 18,
   "id": "78494510",
   "metadata": {},
   "outputs": [
    {
     "data": {
      "image/png": "[encoded data removed]",
      "text/plain": [
       "<Figure size 640x480 with 1 Axes>"
      ]
     },
     "metadata": {},
     "output_type": "display_data"
    }
   ],
   "source": [
    "# mostrar grafico de hombres vs mujeres por comuna\n",
    "\n",
    "\n",
    "\n",
    "# # Creacion del grafico\n",
    "# x = [1,2,3]\n",
    "# y = [2,4,6]\n",
    "\n",
    "# plt.plot(\n",
    "#     x,\n",
    "#     y,\n",
    "#     color=\"#6782a0\",\n",
    "#     linestyle=\"-\",\n",
    "#     linewidth=2\n",
    "# )\n",
    "# plt.title(\"hombres vs mujeres por comuna\")\n",
    "# plt.ylabel(\"Numero de estudiantes\")\n",
    "# plt.xlabel(\"Comuna\")\n",
    "# plt.legend()\n",
    "# plt.show\n",
    "\n",
    "\n",
    "comunas = myFile['Comuna'].head(n=10)\n",
    "grupoHombres = myFile['Hombres'].head(n=6)\n",
    "grupoMujeres = myFile['Mujeres'].head(n=6)\n",
    "\n",
    "# myFile.sort_values(by=\"Mujeres\")\n",
    "# top = myFile.loc[0,'Mujeres']\n",
    "# myFile.sort_values(by=\"Hombres\")\n",
    "# topHombres = myFile.loc[0,'Hombres']\n",
    "\n",
    "# if top < topHombres:\n",
    "#     top = topHombres\n",
    "\n",
    "\n",
    "top = 3000\n",
    "\n",
    "# plt.bar(\n",
    "#     comunas,\n",
    "#     top,\n",
    "#     0.5,\n",
    "#     1\n",
    "#     )\n",
    "\n",
    "# plt.bar(\n",
    "#     comunas,\n",
    "#     top,\n",
    "#     0.5,\n",
    "#     1\n",
    "\n",
    "# )\n",
    "ancho = 0.35\n",
    "\n",
    "\n",
    "plt.bar(10 - ancho/2, grupoHombres, width=ancho, label=\"Hombres\", color=\"skyblue\")\n",
    "plt.bar(10 + ancho/2, grupoMujeres, width=ancho, label=\"Mujeres\", color=\"orange\")\n",
    "\n",
    "plt.title(\"hombres vs mujeres por comuna\")\n",
    "plt.ylabel(\"Numero de estudiantes\")\n",
    "plt.xlabel(\"Comuna\")\n",
    "\n",
    "\n",
    "plt.show()\n",
    "\n",
    "\n",
    "\n"
   ]
  },
  {
   "cell_type": "markdown",
   "id": "44ac2378",
   "metadata": {},
   "source": [
    "3. Determinar cuál es la región con el mayor promedio PSU. (10 puntos)\n"
   ]
  },
  {
   "cell_type": "code",
   "execution_count": 21,
   "id": "f8391b0c",
   "metadata": {},
   "outputs": [
    {
     "name": "stdout",
     "output_type": "stream",
     "text": [
      "Metropolitana\n"
     ]
    }
   ],
   "source": [
    "myFile.sort_values(by=\"Promedio PSU\")\n",
    "print(myFile.loc[0,'Región'])"
   ]
  },
  {
   "cell_type": "markdown",
   "id": "31a2c47a",
   "metadata": {},
   "source": [
    "4. Filtrar las comunas que tienen 5 o más puntajes nacionales. Mostrar comuna y cantidad. (10 puntos)\n"
   ]
  },
  {
   "cell_type": "code",
   "execution_count": 25,
   "id": "1532e311",
   "metadata": {},
   "outputs": [
    {
     "data": {
      "text/html": [
       "<div>\n",
       "<style scoped>\n",
       "    .dataframe tbody tr th:only-of-type {\n",
       "        vertical-align: middle;\n",
       "    }\n",
       "\n",
       "    .dataframe tbody tr th {\n",
       "        vertical-align: top;\n",
       "    }\n",
       "\n",
       "    .dataframe thead th {\n",
       "        text-align: right;\n",
       "    }\n",
       "</style>\n",
       "<table border=\"1\" class=\"dataframe\">\n",
       "  <thead>\n",
       "    <tr style=\"text-align: right;\">\n",
       "      <th></th>\n",
       "      <th>Comuna</th>\n",
       "      <th>Puntajes Nacionales</th>\n",
       "    </tr>\n",
       "  </thead>\n",
       "  <tbody>\n",
       "    <tr>\n",
       "      <th>0</th>\n",
       "      <td>Santiago</td>\n",
       "      <td>12</td>\n",
       "    </tr>\n",
       "    <tr>\n",
       "      <th>1</th>\n",
       "      <td>Viña del Mar</td>\n",
       "      <td>5</td>\n",
       "    </tr>\n",
       "  </tbody>\n",
       "</table>\n",
       "</div>"
      ],
      "text/plain": [
       "         Comuna  Puntajes Nacionales\n",
       "0      Santiago                   12\n",
       "1  Viña del Mar                    5"
      ]
     },
     "execution_count": 25,
     "metadata": {},
     "output_type": "execute_result"
    }
   ],
   "source": [
    "myFile.sort_values(by=\"Puntajes Nacionales\")\n",
    "\n",
    "count=0\n",
    "for i in range(len(myFile)):\n",
    "    if (myFile.loc[i,\"Puntajes Nacionales\"]>4):\n",
    "        count +=1\n",
    "    else:\n",
    "        break\n",
    "\n",
    "myFile[['Comuna','Puntajes Nacionales']].head(n=count)"
   ]
  },
  {
   "cell_type": "markdown",
   "id": "427cb5d6",
   "metadata": {},
   "source": [
    "5. Calcular el porcentaje de mujeres respecto al total de estudiantes en cada comuna y mostrarlo en una nueva columna del DataFrame. (15 puntos)\n"
   ]
  },
  {
   "cell_type": "markdown",
   "id": "7edaac86",
   "metadata": {},
   "source": [
    "6. ¿Cuál es la participación porcentual de cada región en el total nacional de estudiantes? Realiza un gráfico de torta. (10 puntos)\n"
   ]
  },
  {
   "cell_type": "markdown",
   "id": "bfb28a9f",
   "metadata": {},
   "source": [
    "7. ¿Qué comunas tienen menos de 1000 estudiantes? ¿Cómo se comparan sus promedios PSU? Realiza un gráfico de barras. (10 puntos)\n",
    "\n"
   ]
  },
  {
   "cell_type": "code",
   "execution_count": null,
   "id": "39d679d5",
   "metadata": {},
   "outputs": [
    {
     "name": "stdout",
     "output_type": "stream",
     "text": [
      "5200\n",
      "3100\n",
      "2800\n",
      "1500\n",
      "1300\n",
      "900\n"
     ]
    },
    {
     "data": {
      "text/html": [
       "<div>\n",
       "<style scoped>\n",
       "    .dataframe tbody tr th:only-of-type {\n",
       "        vertical-align: middle;\n",
       "    }\n",
       "\n",
       "    .dataframe tbody tr th {\n",
       "        vertical-align: top;\n",
       "    }\n",
       "\n",
       "    .dataframe thead th {\n",
       "        text-align: right;\n",
       "    }\n",
       "</style>\n",
       "<table border=\"1\" class=\"dataframe\">\n",
       "  <thead>\n",
       "    <tr style=\"text-align: right;\">\n",
       "      <th></th>\n",
       "      <th>Región</th>\n",
       "      <th>Comuna</th>\n",
       "      <th>Estudiantes</th>\n",
       "      <th>Mujeres</th>\n",
       "      <th>Hombres</th>\n",
       "      <th>Promedio PSU</th>\n",
       "      <th>Puntajes Nacionales</th>\n",
       "    </tr>\n",
       "  </thead>\n",
       "  <tbody>\n",
       "    <tr>\n",
       "      <th>0</th>\n",
       "      <td>Metropolitana</td>\n",
       "      <td>Santiago</td>\n",
       "      <td>5200</td>\n",
       "      <td>2800</td>\n",
       "      <td>2400</td>\n",
       "      <td>600</td>\n",
       "      <td>12</td>\n",
       "    </tr>\n",
       "    <tr>\n",
       "      <th>1</th>\n",
       "      <td>Valparaíso</td>\n",
       "      <td>Viña del Mar</td>\n",
       "      <td>3100</td>\n",
       "      <td>1700</td>\n",
       "      <td>1400</td>\n",
       "      <td>590</td>\n",
       "      <td>5</td>\n",
       "    </tr>\n",
       "    <tr>\n",
       "      <th>2</th>\n",
       "      <td>Biobío</td>\n",
       "      <td>Concepción</td>\n",
       "      <td>2800</td>\n",
       "      <td>1500</td>\n",
       "      <td>1300</td>\n",
       "      <td>580</td>\n",
       "      <td>3</td>\n",
       "    </tr>\n",
       "    <tr>\n",
       "      <th>3</th>\n",
       "      <td>Araucanía</td>\n",
       "      <td>Temuco</td>\n",
       "      <td>1500</td>\n",
       "      <td>800</td>\n",
       "      <td>700</td>\n",
       "      <td>570</td>\n",
       "      <td>1</td>\n",
       "    </tr>\n",
       "    <tr>\n",
       "      <th>4</th>\n",
       "      <td>Los Lagos</td>\n",
       "      <td>Puerto Montt</td>\n",
       "      <td>1300</td>\n",
       "      <td>700</td>\n",
       "      <td>600</td>\n",
       "      <td>560</td>\n",
       "      <td>1</td>\n",
       "    </tr>\n",
       "  </tbody>\n",
       "</table>\n",
       "</div>"
      ],
      "text/plain": [
       "          Región        Comuna  Estudiantes  Mujeres  Hombres  Promedio PSU  \\\n",
       "0  Metropolitana      Santiago         5200     2800     2400           600   \n",
       "1     Valparaíso  Viña del Mar         3100     1700     1400           590   \n",
       "2         Biobío    Concepción         2800     1500     1300           580   \n",
       "3      Araucanía        Temuco         1500      800      700           570   \n",
       "4      Los Lagos  Puerto Montt         1300      700      600           560   \n",
       "\n",
       "   Puntajes Nacionales  \n",
       "0                   12  \n",
       "1                    5  \n",
       "2                    3  \n",
       "3                    1  \n",
       "4                    1  "
      ]
     },
     "execution_count": 30,
     "metadata": {},
     "output_type": "execute_result"
    }
   ],
   "source": [
    "myFile.sort_values(by=\"Estudiantes\")\n",
    "\n",
    "\n",
    "count=0\n",
    "for i in range(len(myFile)):\n",
    "    count+=1\n",
    "    if (myFile.loc[i,\"Estudiantes\"]<1000):\n",
    "        count-=1\n",
    "        break\n",
    "myFile.head(n=count)"
   ]
  },
  {
   "cell_type": "markdown",
   "id": "89efbef0",
   "metadata": {},
   "source": [
    "8. ¿Cómo varían los puntajes nacionales según el promedio PSU? Realiza un gráfico de dispersión. (10 puntos)"
   ]
  }
 ],
 "metadata": {
  "kernelspec": {
   "display_name": "venv",
   "language": "python",
   "name": "python3"
  },
  "language_info": {
   "codemirror_mode": {
    "name": "ipython",
    "version": 3
   },
   "file_extension": ".py",
   "mimetype": "text/x-python",
   "name": "python",
   "nbconvert_exporter": "python",
   "pygments_lexer": "ipython3",
   "version": "3.13.3"
  }
 },
 "nbformat": 4,
 "nbformat_minor": 5
}
