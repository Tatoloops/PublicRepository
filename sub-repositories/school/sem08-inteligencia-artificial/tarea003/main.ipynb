{
 "cells": [
  {
   "cell_type": "markdown",
   "id": "a3d82e6d",
   "metadata": {},
   "source": [
    "# Análisis Exploratorio de Ventas Online\n",
    "Objetivo: Analizar un conjunto de datos de ventas en línea aplicando técnicas de exploración, limpieza, análisis y visualización con Python.  "
   ]
  },
  {
   "cell_type": "markdown",
   "id": "6b083707",
   "metadata": {},
   "source": [
    "* Tomas Castillo Avila"
   ]
  },
  {
   "cell_type": "markdown",
   "id": "70f2471c",
   "metadata": {},
   "source": [
    "## Instrucciones Generales  \n",
    "1. Descargue el archivo 'ventas_online.csv' proporcionado junto a esta actividad.  \n",
    "2. Ejecute el código en Google Colab o Jupyter Notebook.  \n",
    "3. Complete las respuestas solicitadas en cada sección.  \n",
    "4. Entregue el Notebook en formato .ipynb o exportado como PDF. "
   ]
  },
  {
   "cell_type": "code",
   "execution_count": null,
   "id": "d939a6dd",
   "metadata": {},
   "outputs": [],
   "source": [
    "# importar librerias importantes\n",
    "import pandas as pd\n",
    "import matplotlib.pyplot as pl\n",
    "import numpy as np"
   ]
  },
  {
   "cell_type": "markdown",
   "id": "8d92e47c",
   "metadata": {},
   "source": [
    "## Parte 1 — Carga y Exploración\n",
    "• Cargar el dataset y mostrar las primeras 10 filas.  \n",
    "• Mostrar número de filas y columnas.  \n",
    "• Mostrar tipos de datos por columna.  \n",
    "• Contar valores nulos por columna.  \n",
    "Preguntas: ¿Cuántos valores nulos hay en cada columna? ¿Qué variables son numéricas y cuáles categóricas?  \n"
   ]
  },
  {
   "cell_type": "code",
   "execution_count": null,
   "id": "5e9bd54e",
   "metadata": {},
   "outputs": [],
   "source": [
    "# cargar el dataset\n",
    "myDf = pd.read_csv(\"local-data/ventas_online.csv\")"
   ]
  },
  {
   "cell_type": "code",
   "execution_count": null,
   "id": "9c342f8f",
   "metadata": {},
   "outputs": [],
   "source": [
    "# mostrar las primeras 10 lineas\n",
    "myDf.head(n=10)"
   ]
  },
  {
   "cell_type": "code",
   "execution_count": null,
   "id": "4ebcfdfe",
   "metadata": {},
   "outputs": [],
   "source": [
    "# cantidad de filas y columnas\n",
    "print(\"filas:\",len(myDf), \"   columnas:\", myDf.shape[1])"
   ]
  },
  {
   "cell_type": "code",
   "execution_count": null,
   "id": "4829a383",
   "metadata": {},
   "outputs": [],
   "source": [
    "# tipo de dato por columna\n",
    "print(myDf.dtypes)"
   ]
  },
  {
   "cell_type": "code",
   "execution_count": null,
   "id": "e9c032d3",
   "metadata": {},
   "outputs": [],
   "source": [
    "# valores nulos por columna\n",
    "print(myDf.isnull().sum())"
   ]
  },
  {
   "cell_type": "markdown",
   "id": "e4748a32",
   "metadata": {},
   "source": [
    "## Parte 2 — Limpieza de Datos\n",
    "• Eliminar registros duplicados.  \n",
    "• Eliminar registros con precios negativos.  \n",
    "• Rellenar valores nulos en 'country' con 'Unknown'.  \n",
    "Preguntas: ¿Cuántos duplicados había? ¿Cuántos registros con precios negativos fueron eliminados?  \n"
   ]
  },
  {
   "cell_type": "code",
   "execution_count": null,
   "id": "49c1077b",
   "metadata": {},
   "outputs": [],
   "source": [
    "# rliminar duplicados\n",
    "myDf.drop_duplicates()"
   ]
  },
  {
   "cell_type": "code",
   "execution_count": null,
   "id": "c5a363e1",
   "metadata": {},
   "outputs": [
    {
     "name": "stdout",
     "output_type": "stream",
     "text": [
      "-398.13\n",
      "-251.64\n",
      "-217.68\n",
      "-261.14\n",
      "-478.24\n",
      "-315.16\n",
      "-473.81\n",
      "-436.35\n",
      "-218.85\n",
      "-485.48\n"
     ]
    }
   ],
   "source": [
    "#eliminar registros con precios negativos\n",
    "\n",
    "for i in range (myDf.shape[0]):\n",
    "    if myDf.loc[i,\"price\"]<0:\n",
    "        print(myDf.loc[i,\"price\"])\n",
    "        # eliminar fila\n",
    "        myDf.drop(i)\n",
    "\n"
   ]
  },
  {
   "cell_type": "markdown",
   "id": "09de63ba",
   "metadata": {},
   "source": [
    "## Parte 3 — Análisis por País\n",
    "• Calcular el total de ventas por país.  \n",
    "• Mostrar el Top 5 países por ingresos.  \n",
    "• Identificar el país con menores ingresos.  \n",
    "• Generar gráfico de barras con el Top 5.  \n",
    "Preguntas: ¿Cuál es el país con más ingresos? ¿Cuál tiene menos ingresos?"
   ]
  },
  {
   "cell_type": "markdown",
   "id": "751ede65",
   "metadata": {},
   "source": [
    "## Parte 4 — Análisis por Categoría\n",
    "• Calcular la cantidad total vendida por categoría.  \n",
    "• Mostrar categorías ordenadas de mayor a menor venta.  \n",
    "• Generar gráfico de barras con las ventas por categoría.  \n",
    "Preguntas: ¿Qué categoría es la más vendida? ¿Cuál es la menos vendida?  "
   ]
  },
  {
   "cell_type": "markdown",
   "id": "e1f5d718",
   "metadata": {},
   "source": [
    "## Parte 5 — Análisis Temporal\n",
    "• Convertir la columna 'date' a tipo fecha.  \n",
    "• Calcular ventas mensuales.  \n",
    "• Generar gráfico de línea con la evolución mensual de ventas.  \n",
    "Preguntas: ¿En qué mes hubo más ingresos? ¿Hay patrones estacionales?  "
   ]
  },
  {
   "cell_type": "markdown",
   "id": "8bf97e2f",
   "metadata": {},
   "source": [
    "## Entrega\n",
    "• Suba su Notebook (.ipynb) o PDF a la plataforma Blackboard  \n",
    "• Incluya todos los gráficos generados.  \n",
    "• Responda las preguntas de cada sección en el mismo Notebook.   "
   ]
  }
 ],
 "metadata": {
  "kernelspec": {
   "display_name": ".venv",
   "language": "python",
   "name": "python3"
  },
  "language_info": {
   "codemirror_mode": {
    "name": "ipython",
    "version": 3
   },
   "file_extension": ".py",
   "mimetype": "text/x-python",
   "name": "python",
   "nbconvert_exporter": "python",
   "pygments_lexer": "ipython3",
   "version": "3.11.3"
  }
 },
 "nbformat": 4,
 "nbformat_minor": 5
}
