{
 "cells": [
  {
   "cell_type": "markdown",
   "id": "a3d82e6d",
   "metadata": {},
   "source": [
    "# Análisis Exploratorio de Ventas Online\n",
    "Objetivo: Analizar un conjunto de datos de ventas en línea aplicando técnicas de exploración, limpieza, análisis y visualización con Python.  "
   ]
  },
  {
   "cell_type": "markdown",
   "id": "6b083707",
   "metadata": {},
   "source": [
    "* Tomas Castillo Avila"
   ]
  },
  {
   "cell_type": "markdown",
   "id": "70f2471c",
   "metadata": {},
   "source": [
    "## Instrucciones Generales  \n",
    "1. Descargue el archivo 'ventas_online.csv' proporcionado junto a esta actividad.  \n",
    "2. Ejecute el código en Google Colab o Jupyter Notebook.  \n",
    "3. Complete las respuestas solicitadas en cada sección.  \n",
    "4. Entregue el Notebook en formato .ipynb o exportado como PDF. "
   ]
  },
  {
   "cell_type": "code",
   "execution_count": 4,
   "id": "d939a6dd",
   "metadata": {},
   "outputs": [],
   "source": [
    "# importar librerias importantes\n",
    "import pandas as pd\n",
    "import matplotlib.pyplot as pl\n",
    "import numpy as np"
   ]
  },
  {
   "cell_type": "markdown",
   "id": "8d92e47c",
   "metadata": {},
   "source": [
    "## Parte 1 — Carga y Exploración\n",
    "• Cargar el dataset y mostrar las primeras 10 filas.  \n",
    "• Mostrar número de filas y columnas.  \n",
    "• Mostrar tipos de datos por columna.  \n",
    "• Contar valores nulos por columna.  \n",
    "Preguntas: ¿Cuántos valores nulos hay en cada columna? ¿Qué variables son numéricas y cuáles categóricas?  \n"
   ]
  },
  {
   "cell_type": "code",
   "execution_count": 5,
   "id": "5e9bd54e",
   "metadata": {},
   "outputs": [],
   "source": [
    "# cargar el dataset\n",
    "myDf = pd.read_csv(\"local-data/ventas_online.csv\")"
   ]
  },
  {
   "cell_type": "code",
   "execution_count": 3,
   "id": "9c342f8f",
   "metadata": {},
   "outputs": [
    {
     "data": {
      "text/html": [
       "<div>\n",
       "<style scoped>\n",
       "    .dataframe tbody tr th:only-of-type {\n",
       "        vertical-align: middle;\n",
       "    }\n",
       "\n",
       "    .dataframe tbody tr th {\n",
       "        vertical-align: top;\n",
       "    }\n",
       "\n",
       "    .dataframe thead th {\n",
       "        text-align: right;\n",
       "    }\n",
       "</style>\n",
       "<table border=\"1\" class=\"dataframe\">\n",
       "  <thead>\n",
       "    <tr style=\"text-align: right;\">\n",
       "      <th></th>\n",
       "      <th>order_id</th>\n",
       "      <th>date</th>\n",
       "      <th>category</th>\n",
       "      <th>price</th>\n",
       "      <th>quantity</th>\n",
       "      <th>country</th>\n",
       "    </tr>\n",
       "  </thead>\n",
       "  <tbody>\n",
       "    <tr>\n",
       "      <th>0</th>\n",
       "      <td>1</td>\n",
       "      <td>2024-01-01</td>\n",
       "      <td>Juguetes</td>\n",
       "      <td>305.51</td>\n",
       "      <td>9</td>\n",
       "      <td>España</td>\n",
       "    </tr>\n",
       "    <tr>\n",
       "      <th>1</th>\n",
       "      <td>2</td>\n",
       "      <td>2024-01-02</td>\n",
       "      <td>Deporte</td>\n",
       "      <td>275.62</td>\n",
       "      <td>6</td>\n",
       "      <td>NaN</td>\n",
       "    </tr>\n",
       "    <tr>\n",
       "      <th>2</th>\n",
       "      <td>3</td>\n",
       "      <td>2024-01-03</td>\n",
       "      <td>Hogar</td>\n",
       "      <td>119.81</td>\n",
       "      <td>3</td>\n",
       "      <td>México</td>\n",
       "    </tr>\n",
       "    <tr>\n",
       "      <th>3</th>\n",
       "      <td>4</td>\n",
       "      <td>2024-01-04</td>\n",
       "      <td>Deporte</td>\n",
       "      <td>198.50</td>\n",
       "      <td>7</td>\n",
       "      <td>Chile</td>\n",
       "    </tr>\n",
       "    <tr>\n",
       "      <th>4</th>\n",
       "      <td>5</td>\n",
       "      <td>2024-01-05</td>\n",
       "      <td>Deporte</td>\n",
       "      <td>299.27</td>\n",
       "      <td>9</td>\n",
       "      <td>España</td>\n",
       "    </tr>\n",
       "    <tr>\n",
       "      <th>5</th>\n",
       "      <td>6</td>\n",
       "      <td>2024-01-06</td>\n",
       "      <td>Ropa</td>\n",
       "      <td>250.90</td>\n",
       "      <td>3</td>\n",
       "      <td>México</td>\n",
       "    </tr>\n",
       "    <tr>\n",
       "      <th>6</th>\n",
       "      <td>7</td>\n",
       "      <td>2024-01-07</td>\n",
       "      <td>Hogar</td>\n",
       "      <td>493.95</td>\n",
       "      <td>2</td>\n",
       "      <td>NaN</td>\n",
       "    </tr>\n",
       "    <tr>\n",
       "      <th>7</th>\n",
       "      <td>8</td>\n",
       "      <td>2024-01-08</td>\n",
       "      <td>Hogar</td>\n",
       "      <td>72.54</td>\n",
       "      <td>7</td>\n",
       "      <td>México</td>\n",
       "    </tr>\n",
       "    <tr>\n",
       "      <th>8</th>\n",
       "      <td>9</td>\n",
       "      <td>2024-01-09</td>\n",
       "      <td>Hogar</td>\n",
       "      <td>349.10</td>\n",
       "      <td>7</td>\n",
       "      <td>Colombia</td>\n",
       "    </tr>\n",
       "    <tr>\n",
       "      <th>9</th>\n",
       "      <td>10</td>\n",
       "      <td>2024-01-10</td>\n",
       "      <td>Deporte</td>\n",
       "      <td>205.14</td>\n",
       "      <td>4</td>\n",
       "      <td>Perú</td>\n",
       "    </tr>\n",
       "  </tbody>\n",
       "</table>\n",
       "</div>"
      ],
      "text/plain": [
       "   order_id        date  category   price  quantity   country\n",
       "0         1  2024-01-01  Juguetes  305.51         9    España\n",
       "1         2  2024-01-02   Deporte  275.62         6       NaN\n",
       "2         3  2024-01-03     Hogar  119.81         3    México\n",
       "3         4  2024-01-04   Deporte  198.50         7     Chile\n",
       "4         5  2024-01-05   Deporte  299.27         9    España\n",
       "5         6  2024-01-06      Ropa  250.90         3    México\n",
       "6         7  2024-01-07     Hogar  493.95         2       NaN\n",
       "7         8  2024-01-08     Hogar   72.54         7    México\n",
       "8         9  2024-01-09     Hogar  349.10         7  Colombia\n",
       "9        10  2024-01-10   Deporte  205.14         4      Perú"
      ]
     },
     "execution_count": 3,
     "metadata": {},
     "output_type": "execute_result"
    }
   ],
   "source": [
    "# mostrar las primeras 10 lineas\n",
    "myDf.head(n=10)"
   ]
  },
  {
   "cell_type": "code",
   "execution_count": 6,
   "id": "4ebcfdfe",
   "metadata": {},
   "outputs": [
    {
     "name": "stdout",
     "output_type": "stream",
     "text": [
      "filas: 2005    columnas: 6\n"
     ]
    }
   ],
   "source": [
    "# cantidad de filas y columnas\n",
    "print(\"filas:\",len(myDf), \"   columnas:\", myDf.shape[1])"
   ]
  },
  {
   "cell_type": "code",
   "execution_count": 15,
   "id": "4829a383",
   "metadata": {},
   "outputs": [
    {
     "name": "stdout",
     "output_type": "stream",
     "text": [
      "order_id      int64\n",
      "date         object\n",
      "category     object\n",
      "price       float64\n",
      "quantity      int64\n",
      "country      object\n",
      "dtype: object\n"
     ]
    }
   ],
   "source": [
    "# tipo de dato por columna\n",
    "print(myDf.dtypes)"
   ]
  },
  {
   "cell_type": "code",
   "execution_count": 14,
   "id": "e9c032d3",
   "metadata": {},
   "outputs": [
    {
     "name": "stdout",
     "output_type": "stream",
     "text": [
      "order_id      0\n",
      "date          0\n",
      "category      0\n",
      "price         0\n",
      "quantity      0\n",
      "country     239\n",
      "dtype: int64\n"
     ]
    }
   ],
   "source": [
    "# valores nulos por columna\n",
    "print(myDf.isnull().sum())"
   ]
  },
  {
   "cell_type": "markdown",
   "id": "e4748a32",
   "metadata": {},
   "source": [
    "## Parte 2 — Limpieza de Datos\n",
    "• Eliminar registros duplicados.  \n",
    "• Eliminar registros con precios negativos.  \n",
    "• Rellenar valores nulos en 'country' con 'Unknown'.  \n",
    "Preguntas: ¿Cuántos duplicados había? ¿Cuántos registros con precios negativos fueron eliminados?  \n"
   ]
  },
  {
   "cell_type": "code",
   "execution_count": 6,
   "id": "49c1077b",
   "metadata": {},
   "outputs": [
    {
     "data": {
      "text/html": [
       "<div>\n",
       "<style scoped>\n",
       "    .dataframe tbody tr th:only-of-type {\n",
       "        vertical-align: middle;\n",
       "    }\n",
       "\n",
       "    .dataframe tbody tr th {\n",
       "        vertical-align: top;\n",
       "    }\n",
       "\n",
       "    .dataframe thead th {\n",
       "        text-align: right;\n",
       "    }\n",
       "</style>\n",
       "<table border=\"1\" class=\"dataframe\">\n",
       "  <thead>\n",
       "    <tr style=\"text-align: right;\">\n",
       "      <th></th>\n",
       "      <th>order_id</th>\n",
       "      <th>date</th>\n",
       "      <th>category</th>\n",
       "      <th>price</th>\n",
       "      <th>quantity</th>\n",
       "      <th>country</th>\n",
       "    </tr>\n",
       "  </thead>\n",
       "  <tbody>\n",
       "    <tr>\n",
       "      <th>0</th>\n",
       "      <td>1</td>\n",
       "      <td>2024-01-01</td>\n",
       "      <td>Juguetes</td>\n",
       "      <td>305.51</td>\n",
       "      <td>9</td>\n",
       "      <td>España</td>\n",
       "    </tr>\n",
       "    <tr>\n",
       "      <th>1</th>\n",
       "      <td>2</td>\n",
       "      <td>2024-01-02</td>\n",
       "      <td>Deporte</td>\n",
       "      <td>275.62</td>\n",
       "      <td>6</td>\n",
       "      <td>NaN</td>\n",
       "    </tr>\n",
       "    <tr>\n",
       "      <th>2</th>\n",
       "      <td>3</td>\n",
       "      <td>2024-01-03</td>\n",
       "      <td>Hogar</td>\n",
       "      <td>119.81</td>\n",
       "      <td>3</td>\n",
       "      <td>México</td>\n",
       "    </tr>\n",
       "    <tr>\n",
       "      <th>3</th>\n",
       "      <td>4</td>\n",
       "      <td>2024-01-04</td>\n",
       "      <td>Deporte</td>\n",
       "      <td>198.50</td>\n",
       "      <td>7</td>\n",
       "      <td>Chile</td>\n",
       "    </tr>\n",
       "    <tr>\n",
       "      <th>4</th>\n",
       "      <td>5</td>\n",
       "      <td>2024-01-05</td>\n",
       "      <td>Deporte</td>\n",
       "      <td>299.27</td>\n",
       "      <td>9</td>\n",
       "      <td>España</td>\n",
       "    </tr>\n",
       "    <tr>\n",
       "      <th>...</th>\n",
       "      <td>...</td>\n",
       "      <td>...</td>\n",
       "      <td>...</td>\n",
       "      <td>...</td>\n",
       "      <td>...</td>\n",
       "      <td>...</td>\n",
       "    </tr>\n",
       "    <tr>\n",
       "      <th>1995</th>\n",
       "      <td>1996</td>\n",
       "      <td>2029-06-18</td>\n",
       "      <td>Electrónica</td>\n",
       "      <td>494.78</td>\n",
       "      <td>8</td>\n",
       "      <td>Chile</td>\n",
       "    </tr>\n",
       "    <tr>\n",
       "      <th>1996</th>\n",
       "      <td>1997</td>\n",
       "      <td>2029-06-19</td>\n",
       "      <td>Deporte</td>\n",
       "      <td>445.31</td>\n",
       "      <td>3</td>\n",
       "      <td>México</td>\n",
       "    </tr>\n",
       "    <tr>\n",
       "      <th>1997</th>\n",
       "      <td>1998</td>\n",
       "      <td>2029-06-20</td>\n",
       "      <td>Electrónica</td>\n",
       "      <td>188.88</td>\n",
       "      <td>7</td>\n",
       "      <td>Argentina</td>\n",
       "    </tr>\n",
       "    <tr>\n",
       "      <th>1998</th>\n",
       "      <td>1999</td>\n",
       "      <td>2029-06-21</td>\n",
       "      <td>Deporte</td>\n",
       "      <td>101.61</td>\n",
       "      <td>1</td>\n",
       "      <td>México</td>\n",
       "    </tr>\n",
       "    <tr>\n",
       "      <th>1999</th>\n",
       "      <td>2000</td>\n",
       "      <td>2029-06-22</td>\n",
       "      <td>Hogar</td>\n",
       "      <td>247.25</td>\n",
       "      <td>1</td>\n",
       "      <td>Colombia</td>\n",
       "    </tr>\n",
       "  </tbody>\n",
       "</table>\n",
       "<p>2000 rows × 6 columns</p>\n",
       "</div>"
      ],
      "text/plain": [
       "      order_id        date     category   price  quantity    country\n",
       "0            1  2024-01-01     Juguetes  305.51         9     España\n",
       "1            2  2024-01-02      Deporte  275.62         6        NaN\n",
       "2            3  2024-01-03        Hogar  119.81         3     México\n",
       "3            4  2024-01-04      Deporte  198.50         7      Chile\n",
       "4            5  2024-01-05      Deporte  299.27         9     España\n",
       "...        ...         ...          ...     ...       ...        ...\n",
       "1995      1996  2029-06-18  Electrónica  494.78         8      Chile\n",
       "1996      1997  2029-06-19      Deporte  445.31         3     México\n",
       "1997      1998  2029-06-20  Electrónica  188.88         7  Argentina\n",
       "1998      1999  2029-06-21      Deporte  101.61         1     México\n",
       "1999      2000  2029-06-22        Hogar  247.25         1   Colombia\n",
       "\n",
       "[2000 rows x 6 columns]"
      ]
     },
     "execution_count": 6,
     "metadata": {},
     "output_type": "execute_result"
    }
   ],
   "source": [
    "# rliminar duplicados\n",
    "myDf.drop_duplicates()"
   ]
  },
  {
   "cell_type": "code",
   "execution_count": 7,
   "id": "c5a363e1",
   "metadata": {},
   "outputs": [],
   "source": [
    "#eliminar registros con precios negativos\n",
    "\n",
    "# for i in range (myDf.shape[0]):\n",
    "#     if myDf.loc[i,\"price\"]<0:\n",
    "#         print(myDf.loc[i,\"price\"])\n",
    "#         # eliminar fila\n",
    "#         myDf=myDf.drop(index=i)\n",
    "\n",
    "# quitar los valores negativos\n",
    "mask = myDf['price'] < 0\n",
    "myDf = myDf.loc[~mask].reset_index(drop=True)   # reasignar y resetear índice si quieres"
   ]
  },
  {
   "cell_type": "code",
   "execution_count": 17,
   "id": "317ef3af",
   "metadata": {},
   "outputs": [],
   "source": [
    "# valores country nan\n",
    "myDf[\"country\"] = myDf[\"country\"].fillna(\"Unknown\")\n"
   ]
  },
  {
   "cell_type": "markdown",
   "id": "09de63ba",
   "metadata": {},
   "source": [
    "## Parte 3 — Análisis por País\n",
    "• Calcular el total de ventas por país.  \n",
    "• Mostrar el Top 5 países por ingresos.  \n",
    "• Identificar el país con menores ingresos.  \n",
    "• Generar gráfico de barras con el Top 5.  \n",
    "Preguntas: ¿Cuál es el país con más ingresos? ¿Cuál tiene menos ingresos?"
   ]
  },
  {
   "cell_type": "code",
   "execution_count": null,
   "id": "e095e46c",
   "metadata": {},
   "outputs": [
    {
     "name": "stdout",
     "output_type": "stream",
     "text": [
      "country\n",
      "Argentina    1436\n",
      "Chile        1202\n",
      "Colombia     1185\n",
      "España       1317\n",
      "México       1220\n",
      "Perú         1247\n",
      "USA          1169\n",
      "Unknown      1224\n",
      "Name: quantity, dtype: int64\n"
     ]
    }
   ],
   "source": [
    "# ventas por pais\n",
    "grupos = myDf.groupby(by=\"country\")\n",
    "print(grupos[\"quantity\"].sum())"
   ]
  },
  {
   "cell_type": "code",
   "execution_count": null,
   "id": "09026ed7",
   "metadata": {},
   "outputs": [],
   "source": [
    "# top 5 paises por ingresos\n",
    "\n",
    "# pais con menores ingresos\n",
    "\n",
    "# grafico de barras\n"
   ]
  },
  {
   "cell_type": "markdown",
   "id": "751ede65",
   "metadata": {},
   "source": [
    "## Parte 4 — Análisis por Categoría\n",
    "• Calcular la cantidad total vendida por categoría.  \n",
    "• Mostrar categorías ordenadas de mayor a menor venta.  \n",
    "• Generar gráfico de barras con las ventas por categoría.  \n",
    "Preguntas: ¿Qué categoría es la más vendida? ¿Cuál es la menos vendida?  "
   ]
  },
  {
   "cell_type": "markdown",
   "id": "e1f5d718",
   "metadata": {},
   "source": [
    "## Parte 5 — Análisis Temporal\n",
    "• Convertir la columna 'date' a tipo fecha.  \n",
    "• Calcular ventas mensuales.  \n",
    "• Generar gráfico de línea con la evolución mensual de ventas.  \n",
    "Preguntas: ¿En qué mes hubo más ingresos? ¿Hay patrones estacionales?  "
   ]
  },
  {
   "cell_type": "markdown",
   "id": "af528da7",
   "metadata": {},
   "source": [
    "## Parte 6\n",
    "1. ¿Cuál es el ticket promedio por país y cuál país tiene el ticket promedio más alto?\n",
    "2. ¿Qué porcentaje del total de ingresos proviene del Top 3 países?\n",
    "3. ¿Cuál es la categoría más vendida en cada país?\n",
    "4. ¿Cuál es la correlación entre precio y cantidad vendida?\n",
    "5. ¿Cuáles son los 5 días con mayores ventas totales y sus ingresos?\n",
    "6. ¿Cuánto representa cada categoría en porcentaje sobre el total de unidades vendidas?\n",
    "7. ¿Cuál es la tasa de crecimiento de ingresos mes a mes?\n",
    "8. ¿En cuántos meses las ventas fueron superiores al promedio anual?\n",
    "9. ¿Cuál es el país con mayor variabilidad (desviación estándar) en el ticket promedio?\n",
    "10. ¿Qué categoría presenta mayor variabilidad en precios?"
   ]
  },
  {
   "cell_type": "code",
   "execution_count": 13,
   "id": "3eff0d8f",
   "metadata": {},
   "outputs": [
    {
     "ename": "KeyError",
     "evalue": "'Column not found: total'",
     "output_type": "error",
     "traceback": [
      "\u001b[31m---------------------------------------------------------------------------\u001b[39m",
      "\u001b[31mKeyError\u001b[39m                                  Traceback (most recent call last)",
      "\u001b[36mCell\u001b[39m\u001b[36m \u001b[39m\u001b[32mIn[13]\u001b[39m\u001b[32m, line 9\u001b[39m\n\u001b[32m      3\u001b[39m grupos=myDf.groupby(by=\u001b[33m\"\u001b[39m\u001b[33mcountry\u001b[39m\u001b[33m\"\u001b[39m)\n\u001b[32m      6\u001b[39m \u001b[38;5;66;03m# for i in grupos:\u001b[39;00m\n\u001b[32m      7\u001b[39m \u001b[38;5;66;03m#     i[\"\"]\u001b[39;00m\n\u001b[32m----> \u001b[39m\u001b[32m9\u001b[39m \u001b[43mmyDf\u001b[49m\u001b[43m.\u001b[49m\u001b[43mgroupby\u001b[49m\u001b[43m(\u001b[49m\u001b[33;43m'\u001b[39;49m\u001b[33;43mcountry\u001b[39;49m\u001b[33;43m'\u001b[39;49m\u001b[43m)\u001b[49m\u001b[43m[\u001b[49m\u001b[33;43m'\u001b[39;49m\u001b[33;43mtotal\u001b[39;49m\u001b[33;43m'\u001b[39;49m\u001b[43m]\u001b[49m.mean().sort_values(ascending=\u001b[38;5;28;01mFalse\u001b[39;00m)\n",
      "\u001b[36mFile \u001b[39m\u001b[32mc:\\Users\\USS\\dev\\PublicRepository\\.venv\\Lib\\site-packages\\pandas\\core\\groupby\\generic.py:1951\u001b[39m, in \u001b[36mDataFrameGroupBy.__getitem__\u001b[39m\u001b[34m(self, key)\u001b[39m\n\u001b[32m   1944\u001b[39m \u001b[38;5;28;01mif\u001b[39;00m \u001b[38;5;28misinstance\u001b[39m(key, \u001b[38;5;28mtuple\u001b[39m) \u001b[38;5;129;01mand\u001b[39;00m \u001b[38;5;28mlen\u001b[39m(key) > \u001b[32m1\u001b[39m:\n\u001b[32m   1945\u001b[39m     \u001b[38;5;66;03m# if len == 1, then it becomes a SeriesGroupBy and this is actually\u001b[39;00m\n\u001b[32m   1946\u001b[39m     \u001b[38;5;66;03m# valid syntax, so don't raise\u001b[39;00m\n\u001b[32m   1947\u001b[39m     \u001b[38;5;28;01mraise\u001b[39;00m \u001b[38;5;167;01mValueError\u001b[39;00m(\n\u001b[32m   1948\u001b[39m         \u001b[33m\"\u001b[39m\u001b[33mCannot subset columns with a tuple with more than one element. \u001b[39m\u001b[33m\"\u001b[39m\n\u001b[32m   1949\u001b[39m         \u001b[33m\"\u001b[39m\u001b[33mUse a list instead.\u001b[39m\u001b[33m\"\u001b[39m\n\u001b[32m   1950\u001b[39m     )\n\u001b[32m-> \u001b[39m\u001b[32m1951\u001b[39m \u001b[38;5;28;01mreturn\u001b[39;00m \u001b[38;5;28;43msuper\u001b[39;49m\u001b[43m(\u001b[49m\u001b[43m)\u001b[49m\u001b[43m.\u001b[49m\u001b[34;43m__getitem__\u001b[39;49m\u001b[43m(\u001b[49m\u001b[43mkey\u001b[49m\u001b[43m)\u001b[49m\n",
      "\u001b[36mFile \u001b[39m\u001b[32mc:\\Users\\USS\\dev\\PublicRepository\\.venv\\Lib\\site-packages\\pandas\\core\\base.py:245\u001b[39m, in \u001b[36mSelectionMixin.__getitem__\u001b[39m\u001b[34m(self, key)\u001b[39m\n\u001b[32m    243\u001b[39m \u001b[38;5;28;01melse\u001b[39;00m:\n\u001b[32m    244\u001b[39m     \u001b[38;5;28;01mif\u001b[39;00m key \u001b[38;5;129;01mnot\u001b[39;00m \u001b[38;5;129;01min\u001b[39;00m \u001b[38;5;28mself\u001b[39m.obj:\n\u001b[32m--> \u001b[39m\u001b[32m245\u001b[39m         \u001b[38;5;28;01mraise\u001b[39;00m \u001b[38;5;167;01mKeyError\u001b[39;00m(\u001b[33mf\u001b[39m\u001b[33m\"\u001b[39m\u001b[33mColumn not found: \u001b[39m\u001b[38;5;132;01m{\u001b[39;00mkey\u001b[38;5;132;01m}\u001b[39;00m\u001b[33m\"\u001b[39m)\n\u001b[32m    246\u001b[39m     ndim = \u001b[38;5;28mself\u001b[39m.obj[key].ndim\n\u001b[32m    247\u001b[39m     \u001b[38;5;28;01mreturn\u001b[39;00m \u001b[38;5;28mself\u001b[39m._gotitem(key, ndim=ndim)\n",
      "\u001b[31mKeyError\u001b[39m: 'Column not found: total'"
     ]
    }
   ],
   "source": [
    "# 1. ticket por paus y mas alto\n",
    "\n",
    "grupos=myDf.groupby(by=\"country\")\n",
    "\n",
    "\n",
    "# for i in grupos:\n",
    "#     i[\"\"]\n",
    "\n",
    "myDf.groupby('country')['total'].mean().sort_values(ascending=False)\n",
    "\n",
    "\n"
   ]
  },
  {
   "cell_type": "markdown",
   "id": "8bf97e2f",
   "metadata": {},
   "source": [
    "## Entrega\n",
    "• Suba su Notebook (.ipynb) o PDF a la plataforma Blackboard  \n",
    "• Incluya todos los gráficos generados.  \n",
    "• Responda las preguntas de cada sección en el mismo Notebook.   "
   ]
  }
 ],
 "metadata": {
  "kernelspec": {
   "display_name": ".venv",
   "language": "python",
   "name": "python3"
  },
  "language_info": {
   "codemirror_mode": {
    "name": "ipython",
    "version": 3
   },
   "file_extension": ".py",
   "mimetype": "text/x-python",
   "name": "python",
   "nbconvert_exporter": "python",
   "pygments_lexer": "ipython3",
   "version": "3.11.3"
  }
 },
 "nbformat": 4,
 "nbformat_minor": 5
}
