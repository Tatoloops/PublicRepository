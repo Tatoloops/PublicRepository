{
  "nbformat": 4,
  "nbformat_minor": 0,
  "metadata": {
    "colab": {
      "provenance": [],
      "authorship_tag": "ABX9TyOdINfBYSoGl1MZBGZgEOV4",
      "include_colab_link": true
    },
    "kernelspec": {
      "name": "python3",
      "display_name": "Python 3"
    },
    "language_info": {
      "name": "python"
    }
  },
  "cells": [
    {
      "cell_type": "markdown",
      "metadata": {
        "id": "view-in-github",
        "colab_type": "text"
      },
      "source": [
        "<a href=\"https://colab.research.google.com/github/Tatoloops/PublicRepository/blob/PyNotebook/SaltoRana.ipynb\" target=\"_parent\"><img src=\"https://colab.research.google.com/assets/colab-badge.svg\" alt=\"Open In Colab\"/></a>"
      ]
    },
    {
      "cell_type": "code",
      "execution_count": 2,
      "metadata": {
        "colab": {
          "base_uri": "https://localhost:8080/"
        },
        "id": "711nIbs7nY5U",
        "outputId": "12f32f4a-41a7-4be1-d738-f15721b6042a"
      },
      "outputs": [
        {
          "output_type": "stream",
          "name": "stdout",
          "text": [
            "Ingrese ancho de la habitación: 20\n",
            "Ingrese alto de la habitación: 20\n",
            "Número de saltos de la rana: -1\n",
            "[1, 1, 1, 1, 1, 1, 1, 1, 1, 1, 1, 1, 1, 1, 1, 1, 1, 1, 1, 1]\n",
            "[1, 1, 1, 1, 1, 1, 1, 1, 1, 1, 1, 1, 1, 1, 1, 1, 1, 1, 1, 1]\n",
            "[1, 1, 1, 1, 1, 1, 1, 1, 1, 1, 1, 1, 1, 1, 1, 1, 1, 1, 1, 1]\n",
            "[1, 1, 1, 1, 1, 1, 1, 1, 1, 1, 1, 1, 1, 1, 1, 1, 1, 1, 1, 1]\n",
            "[1, 1, 1, 1, 1, 1, 1, 1, 1, 1, 1, 1, 1, 1, 1, 1, 1, 1, 1, 1]\n",
            "[1, 1, 1, 1, 1, 1, 1, 1, 1, 1, 1, 1, 1, 1, 1, 1, 1, 1, 1, 1]\n",
            "[1, 1, 1, 1, 1, 1, 1, 1, 1, 1, 1, 1, 1, 1, 1, 1, 1, 1, 1, 1]\n",
            "[1, 1, 1, 1, 1, 1, 1, 1, 1, 1, 1, 1, 1, 1, 1, 1, 1, 1, 1, 1]\n",
            "[1, 1, 1, 1, 1, 1, 1, 1, 1, 1, 1, 1, 1, 1, 1, 1, 1, 1, 1, 1]\n",
            "[1, 1, 1, 1, 1, 1, 1, 1, 1, 1, 1, 1, 1, 1, 1, 1, 1, 1, 1, 1]\n",
            "[1, 1, 1, 1, 1, 1, 1, 1, 1, 1, 1, 1, 1, 1, 1, 1, 1, 1, 1, 1]\n",
            "[1, 1, 1, 1, 1, 1, 1, 1, 1, 1, 1, 1, 1, 1, 1, 1, 1, 1, 1, 1]\n",
            "[1, 1, 1, 1, 1, 1, 1, 1, 1, 1, 1, 1, 1, 1, 1, 1, 1, 1, 1, 1]\n",
            "[1, 1, 1, 1, 1, 1, 1, 1, 1, 1, 1, 1, 1, 1, 1, 1, 1, 1, 1, 1]\n",
            "[1, 1, 1, 1, 1, 1, 1, 1, 1, 1, 1, 1, 1, 1, 1, 1, 1, 1, 1, 1]\n",
            "[1, 1, 1, 1, 1, 1, 1, 1, 1, 1, 1, 1, 1, 1, 1, 1, 1, 1, 1, 1]\n",
            "[1, 1, 1, 1, 1, 1, 1, 1, 1, 1, 1, 1, 1, 1, 1, 1, 1, 1, 1, 1]\n",
            "[1, 1, 1, 1, 1, 1, 1, 1, 1, 1, 1, 1, 1, 1, 1, 1, 1, 1, 1, 1]\n",
            "[1, 1, 1, 1, 1, 1, 1, 1, 1, 1, 1, 1, 1, 1, 1, 1, 1, 1, 1, 1]\n",
            "[1, 1, 1, 1, 1, 1, 1, 1, 1, 1, 1, 1, 1, 1, 1, 1, 1, 1, 1, 1]\n",
            "Cantidad de movimientos realizados: 5471\n"
          ]
        }
      ],
      "source": [
        "import random\n",
        "\n",
        "def inicializar_habitacion(filas, columnas):\n",
        "    return [[0] * columnas for _ in range(filas)]\n",
        "\n",
        "def mostrar_habitacion(habitacion):\n",
        "    for fila in habitacion:\n",
        "        print(fila)\n",
        "\n",
        "def mover_rana(posicion_rana, habitacion):\n",
        "    # Definir las posibles direcciones\n",
        "    direcciones = ['norte', 'sur', 'este', 'oeste']\n",
        "\n",
        "    # Elegir una dirección aleatoria\n",
        "    direccion = random.choice(direcciones)\n",
        "\n",
        "    # Elegir una potencia de salto aleatoria\n",
        "    potencia_salto = random.randint(0, 3)\n",
        "\n",
        "    # Obtener las coordenadas de la posición actual\n",
        "    x, y = posicion_rana\n",
        "\n",
        "    # Realizar el movimiento según la dirección y la potencia del salto\n",
        "    if direccion == 'norte':\n",
        "        x = max(0, x - potencia_salto)\n",
        "    elif direccion == 'sur':\n",
        "        x = min(len(habitacion) - 1, x + potencia_salto)\n",
        "    elif direccion == 'este':\n",
        "        y = min(len(habitacion[0]) - 1, y + potencia_salto)\n",
        "    elif direccion == 'oeste':\n",
        "        y = max(0, y - potencia_salto)\n",
        "\n",
        "    # Actualizar la posición de la rana en la habitación\n",
        "    habitacion[x][y] = 1\n",
        "\n",
        "    # Devolver la nueva posición de la rana\n",
        "    return (x, y)\n",
        "\n",
        "def simulacion(num_movimientos, habitacion):\n",
        "    movimientos_realizados = 0\n",
        "\n",
        "    # Posición inicial de la rana (0, 0)\n",
        "    posicion_rana = (0, 0)\n",
        "\n",
        "    if num_movimientos == -1:\n",
        "        while any(0 in fila for fila in habitacion):\n",
        "            posicion_rana = mover_rana(posicion_rana, habitacion)\n",
        "            movimientos_realizados += 1\n",
        "    elif num_movimientos > 0:\n",
        "        for _ in range(num_movimientos):\n",
        "            posicion_rana = mover_rana(posicion_rana, habitacion)\n",
        "            movimientos_realizados += 1\n",
        "\n",
        "    mostrar_habitacion(habitacion)\n",
        "    print(f\"Cantidad de movimientos realizados: {movimientos_realizados}\")\n",
        "\n",
        "# Obtener dimensiones de la habitación\n",
        "habitacion_ancho = int(input(\"Ingrese ancho de la habitación: \"))\n",
        "habitacion_alto = int(input(\"Ingrese alto de la habitación: \"))\n",
        "\n",
        "# Inicializar la habitación\n",
        "habitacion = inicializar_habitacion(habitacion_alto, habitacion_ancho)\n",
        "\n",
        "# Número de saltos de la rana\n",
        "num_saltos_rana = int(input(\"Número de saltos de la rana: \"))\n",
        "\n",
        "# Ejecutar la simulación\n",
        "simulacion(num_saltos_rana, habitacion)\n"
      ]
    }
  ]
}